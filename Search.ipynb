{
 "cells": [
  {
   "cell_type": "markdown",
   "id": "6c254db8-72df-4bca-afe2-d0bdc0daca14",
   "metadata": {},
   "source": [
    "# Execute embedding and search on remote server"
   ]
  },
  {
   "cell_type": "code",
   "execution_count": 1,
   "id": "1cef7926-c0f9-4875-89e3-af704d434462",
   "metadata": {},
   "outputs": [
    {
     "name": "stdout",
     "output_type": "stream",
     "text": [
      "Requirement already satisfied: paramiko in /opt/conda/lib/python3.11/site-packages (3.5.1)\n",
      "Requirement already satisfied: bcrypt>=3.2 in /opt/conda/lib/python3.11/site-packages (from paramiko) (4.3.0)\n",
      "Requirement already satisfied: cryptography>=3.3 in /opt/conda/lib/python3.11/site-packages (from paramiko) (43.0.1)\n",
      "Requirement already satisfied: pynacl>=1.5 in /opt/conda/lib/python3.11/site-packages (from paramiko) (1.5.0)\n",
      "Requirement already satisfied: cffi>=1.12 in /opt/conda/lib/python3.11/site-packages (from cryptography>=3.3->paramiko) (1.17.1)\n",
      "Requirement already satisfied: pycparser in /opt/conda/lib/python3.11/site-packages (from cffi>=1.12->cryptography>=3.3->paramiko) (2.22)\n"
     ]
    }
   ],
   "source": [
    "!pip install paramiko"
   ]
  },
  {
   "cell_type": "markdown",
   "id": "f717bd22-3c05-4db5-9033-48c2cb0494fc",
   "metadata": {},
   "source": [
    "## Transfer data file"
   ]
  },
  {
   "cell_type": "code",
   "execution_count": 11,
   "id": "829da42a-7dd3-474c-a2d7-9eb009c92917",
   "metadata": {},
   "outputs": [
    {
     "data": {
      "application/vnd.jupyter.widget-view+json": {
       "model_id": "522c6dedcb014cdda5fb72fb8c8f9382",
       "version_major": 2,
       "version_minor": 0
      },
      "text/plain": [
       "Button(description='Send to Server', style=ButtonStyle())"
      ]
     },
     "metadata": {},
     "output_type": "display_data"
    },
    {
     "data": {
      "application/vnd.jupyter.widget-view+json": {
       "model_id": "ae5e2d00a4b44b0693e693e2d1276a5c",
       "version_major": 2,
       "version_minor": 0
      },
      "text/plain": [
       "Select(description='File patents:', layout=Layout(width='200px'), options=('test.sen.gz',), rows=10, value='te…"
      ]
     },
     "metadata": {},
     "output_type": "display_data"
    },
    {
     "data": {
      "application/vnd.jupyter.widget-view+json": {
       "model_id": "f60cd0123229459292588b530ebeb42b",
       "version_major": 2,
       "version_minor": 0
      },
      "text/plain": [
       "Select(description='File sdg targets:', layout=Layout(width='200px'), options=('sgd_goals.dat', 'sgd_targets.d…"
      ]
     },
     "metadata": {},
     "output_type": "display_data"
    },
    {
     "data": {
      "application/vnd.jupyter.widget-view+json": {
       "model_id": "c310b1f7633442bc99873e0bb3db8b1c",
       "version_major": 2,
       "version_minor": 0
      },
      "text/plain": [
       "Text(value='Target Text', description='Prompt:')"
      ]
     },
     "metadata": {},
     "output_type": "display_data"
    },
    {
     "data": {
      "application/vnd.jupyter.widget-view+json": {
       "model_id": "11ae18c78f30456da2b74e86d812e445",
       "version_major": 2,
       "version_minor": 0
      },
      "text/plain": [
       "Text(value='sentence', description='Patent extracts:')"
      ]
     },
     "metadata": {},
     "output_type": "display_data"
    }
   ],
   "source": [
    "import getpass\n",
    "import subprocess\n",
    "import os\n",
    "from dotenv import load_dotenv\n",
    "import ipywidgets as widgets\n",
    "from IPython.display import display\n",
    "import json\n",
    "\n",
    "# Your code to be executed when the button is clicked\n",
    "def send_data_to_server():\n",
    "# Load environment variables from .env file\n",
    "    load_dotenv()\n",
    "    \n",
    "    # Define a variable based on a value from .env\n",
    "    server = os.getenv(\"server\")\n",
    "    username=os.getenv(\"username\")\n",
    "    remote_host=username+\"@\"+server\n",
    "    filename = file_selector.value\n",
    "    filename2 = file_selector2.value\n",
    "    filename3=\"searchconfig.json\"\n",
    "    print(remote_host)\n",
    "    conf={\"filename_sdg\":filename2,\n",
    "          \"filename_texts\":filename,\n",
    "          'Prompt':text1.value,\n",
    "          'extracted_text':text2.value\n",
    "         }\n",
    "    with open('searchconfig.json', \"w\") as f:\n",
    "        json.dump(conf, f, indent=4)\n",
    "          \n",
    "    remote_path = \"/home/codechallenge/InnoClass/backend/classEngine/data/\"\n",
    "    #password = getpass.getpass(f\"Enter password for {remote_host}: \")\n",
    "    #command = [\"scp\", \"-o\", f\"StrictHostKeyChecking=no\", \"-o\", f\"PreferredAuthentications=password\", filename, f\"{remote_host}:{remote_path}\"]\n",
    "    command = [\"scp\", filename, f\"{remote_host}:{remote_path}\"]\n",
    "    command2 = [\"scp\", filename2, f\"{remote_host}:{remote_path}\"]\n",
    "    command3 = [\"scp\", filename3, f\"{remote_host}:{remote_path}\"]\n",
    "    try:\n",
    "        print(\"command 1 : \")\n",
    "        process = subprocess.Popen(command, stdin=subprocess.PIPE, stdout=subprocess.PIPE, stderr=subprocess.PIPE, text=True)\n",
    "        stdout, stderr = process.communicate() # Append newline to password\n",
    "        return_code = process.returncode\n",
    "        if return_code == 0:\n",
    "            print(\"SCP command executed successfully.\")\n",
    "            print(\"Output:\", stdout)\n",
    "        else:\n",
    "            print(f\"SCP command failed with error (code {return_code}):\")\n",
    "            print(\"Error!:\", stderr)\n",
    "        print(\"command 2 : \")\n",
    "        process = subprocess.Popen(command2, stdin=subprocess.PIPE, stdout=subprocess.PIPE, stderr=subprocess.PIPE, text=True)\n",
    "        stdout, stderr = process.communicate() # Append newline to password\n",
    "        return_code = process.returncode\n",
    "        if return_code == 0:\n",
    "            print(\"SCP command executed successfully.\")\n",
    "            print(\"Output:\", stdout)\n",
    "        else:\n",
    "            print(f\"SCP command failed with error (code {return_code}):\")\n",
    "            print(\"Error!:\", stderr)\n",
    "        print(\"command 3 : \")\n",
    "        process = subprocess.Popen(command3, stdin=subprocess.PIPE, stdout=subprocess.PIPE, stderr=subprocess.PIPE, text=True)\n",
    "        stdout, stderr = process.communicate() # Append newline to password\n",
    "        return_code = process.returncode\n",
    "    \n",
    "        if return_code == 0:\n",
    "            print(\"SCP command executed successfully.\")\n",
    "            print(\"Output:\", stdout)\n",
    "        else:\n",
    "            print(f\"SCP command failed with error (code {return_code}):\")\n",
    "            print(\"Error!:\", stderr)\n",
    "    \n",
    "    except FileNotFoundError:\n",
    "        print(\"Error: scp command not found.\")\n",
    "    \n",
    "    except Exception as e:\n",
    "        print(f\"An unexpected error occurred: {e}\")\n",
    "    print(\"Sending data to server...\")\n",
    "\n",
    "\n",
    "# Create the button\n",
    "send_button = widgets.Button(description=\"Send to Server\")\n",
    "\n",
    "# Get list of files ending with \".sen.gz\" from current directory\n",
    "files = [f for f in os.listdir('.') if f.endswith('sen.gz')]\n",
    "files2 = [f for f in os.listdir('.') if f.endswith('.dat')]\n",
    "\n",
    "# Widget for listing files\n",
    "file_selector = widgets.Select(\n",
    "    options=files,\n",
    "    description='File patents:',\n",
    "    rows=10,\n",
    "    layout=widgets.Layout(width='200px')\n",
    ")\n",
    "\n",
    "file_selector2 = widgets.Select(\n",
    "    options=files2,\n",
    "    description='File sdg targets:',\n",
    "    rows=10,\n",
    "    layout=widgets.Layout(width='200px')\n",
    ")\n",
    "\n",
    "\n",
    "text1=widgets.Text(value=\"Target Text\",description=\"Prompt:\")\n",
    "text2=widgets.Text(value=\"sentence\",description=\"Patent extracts:\")\n",
    "\n",
    "# Define the button's click event handler\n",
    "def on_button_click(b):\n",
    "    \n",
    "    send_data_to_server()\n",
    "\n",
    "# Attach the event handler to the button's click event\n",
    "send_button.on_click(on_button_click)\n",
    "\n",
    "# Display the widgets\n",
    "display(send_button)\n",
    "display(file_selector)\n",
    "display(file_selector2)\n",
    "display(text1)\n",
    "display(text2)\n"
   ]
  },
  {
   "cell_type": "markdown",
   "id": "583e45e1-044b-4501-913f-3d2f6e40ce47",
   "metadata": {},
   "source": [
    "Configuration file for embedding and search"
   ]
  },
  {
   "cell_type": "code",
   "execution_count": 3,
   "id": "bde59a5f-325d-4fa2-887a-777acd96c911",
   "metadata": {},
   "outputs": [
    {
     "data": {
      "application/vnd.jupyter.widget-view+json": {
       "model_id": "9e628814131f4a079e523871a179cca1",
       "version_major": 2,
       "version_minor": 0
      },
      "text/plain": [
       "Button(description='Execute Search on Server', style=ButtonStyle())"
      ]
     },
     "metadata": {},
     "output_type": "display_data"
    }
   ],
   "source": [
    "import paramiko\n",
    "import os\n",
    "from dotenv import load_dotenv\n",
    "load_dotenv()\n",
    "\n",
    "\n",
    "def execute_remote_command(hostname, username, private_key_path, command):\n",
    "    \"\"\"Executes a command on a remote machine using SSH keys.\"\"\"\n",
    "    try:\n",
    "        private_key = paramiko.Ed25519Key.from_private_key_file(private_key_path)\n",
    "        client = paramiko.SSHClient()\n",
    "        client.set_missing_host_key_policy(paramiko.AutoAddPolicy())\n",
    "        client.connect(hostname, username=username, pkey=private_key)\n",
    "\n",
    "        stdin, stdout, stderr = client.exec_command(command)\n",
    "        output = stdout.read().decode()\n",
    "        error = stderr.read().decode()\n",
    "\n",
    "        client.close()\n",
    "\n",
    "        if error:\n",
    "            print(f\"Error: {error}\")\n",
    "        return output\n",
    "\n",
    "    except Exception as e:\n",
    "        print(f\"An error occurred: {e}\")\n",
    "        return None\n",
    "\n",
    "execute_button = widgets.Button(description=\"Execute Search on Server\")\n",
    "# Define the button's click event handler\n",
    "def on_execute_button_click(b):\n",
    "    hostname = os.getenv(\"server\")\n",
    "    username = os.getenv(\"username\")\n",
    "    private_key_path = os.getenv(\"key\")\n",
    "    command = \"cd /home/codechallenge/InnoClass/backend/; docker-compose up embedsearch\"  # Replace with your desired command\n",
    "    result = execute_remote_command(hostname,username, private_key_path,command)\n",
    "    \n",
    "    if result:\n",
    "        print(\"Command output:\")\n",
    "        print(result)\n",
    "\n",
    "# Attach the event handler to the button's click event\n",
    "execute_button.on_click(on_execute_button_click)\n",
    "display(execute_button)\n"
   ]
  },
  {
   "cell_type": "code",
   "execution_count": null,
   "id": "e77f4668-894e-45be-9aed-b90c6898d8fa",
   "metadata": {},
   "outputs": [],
   "source": []
  }
 ],
 "metadata": {
  "kernelspec": {
   "display_name": "Python 3 (ipykernel)",
   "language": "python",
   "name": "python3"
  },
  "language_info": {
   "codemirror_mode": {
    "name": "ipython",
    "version": 3
   },
   "file_extension": ".py",
   "mimetype": "text/x-python",
   "name": "python",
   "nbconvert_exporter": "python",
   "pygments_lexer": "ipython3",
   "version": "3.11.10"
  }
 },
 "nbformat": 4,
 "nbformat_minor": 5
}
