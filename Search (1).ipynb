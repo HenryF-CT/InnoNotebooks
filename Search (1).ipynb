{
 "cells": [
  {
   "cell_type": "code",
   "execution_count": 11,
   "id": "87e10915-170d-4cde-a79a-e03022c6eca3",
   "metadata": {},
   "outputs": [],
   "source": [
    "# --- Install Dependencies ---\n",
    "!pip install -q paramiko python-dotenv ipywidgets"
   ]
  },
  {
   "cell_type": "code",
   "execution_count": 12,
   "id": "eb36894f-60d7-4f42-9e1b-82b509c38214",
   "metadata": {},
   "outputs": [
    {
     "name": "stdout",
     "output_type": "stream",
     "text": [
      " No `.sen.gz` files found in this directory. Please extract patent sentences.\n"
     ]
    },
    {
     "data": {
      "application/vnd.jupyter.widget-view+json": {
       "model_id": "5be796c8a51041349b23fe6c92dfffbf",
       "version_major": 2,
       "version_minor": 0
      },
      "text/plain": [
       "Button(button_style='primary', description=' Send to Server', style=ButtonStyle())"
      ]
     },
     "metadata": {},
     "output_type": "display_data"
    },
    {
     "data": {
      "application/vnd.jupyter.widget-view+json": {
       "model_id": "1554ed63cac4480db1ec60ed60948ddd",
       "version_major": 2,
       "version_minor": 0
      },
      "text/plain": [
       "Button(button_style='success', description=' Execute Search', style=ButtonStyle())"
      ]
     },
     "metadata": {},
     "output_type": "display_data"
    },
    {
     "data": {
      "application/vnd.jupyter.widget-view+json": {
       "model_id": "e9d5011c9f964705b403aa9804b92b78",
       "version_major": 2,
       "version_minor": 0
      },
      "text/plain": [
       "Select(description=' Patents:', layout=Layout(width='250px'), options=(), rows=10, value=None)"
      ]
     },
     "metadata": {},
     "output_type": "display_data"
    },
    {
     "data": {
      "application/vnd.jupyter.widget-view+json": {
       "model_id": "7e208a5970eb4cbb8f8d4555677de8cb",
       "version_major": 2,
       "version_minor": 0
      },
      "text/plain": [
       "Select(description=' SDG Targets:', layout=Layout(width='250px'), options=('sgd_goals.dat', 'sgd_targets.dat')…"
      ]
     },
     "metadata": {},
     "output_type": "display_data"
    },
    {
     "data": {
      "application/vnd.jupyter.widget-view+json": {
       "model_id": "bebf8cca44064d938ba140b51aa2eea3",
       "version_major": 2,
       "version_minor": 0
      },
      "text/plain": [
       "Text(value='Target Text', description=' Prompt:')"
      ]
     },
     "metadata": {},
     "output_type": "display_data"
    },
    {
     "data": {
      "application/vnd.jupyter.widget-view+json": {
       "model_id": "fa7357e7f9b1475da2c26ef5966daa6d",
       "version_major": 2,
       "version_minor": 0
      },
      "text/plain": [
       "Text(value='sentence', description=' Patent Field:')"
      ]
     },
     "metadata": {},
     "output_type": "display_data"
    }
   ],
   "source": [
    "# --- Imports ---\n",
    "import os\n",
    "import subprocess\n",
    "import json\n",
    "from dotenv import load_dotenv\n",
    "import ipywidgets as widgets\n",
    "from IPython.display import display\n",
    "import paramiko\n",
    "\n",
    "# --- Load Environment Variables ---\n",
    "load_dotenv()\n",
    "server = os.getenv(\"server\")\n",
    "username = os.getenv(\"username\")\n",
    "key_path = os.getenv(\"key\")  # Path to SSH key\n",
    "remote_host = f\"{username}@{server}\"\n",
    "remote_path = \"/home/codechallenge/InnoClass/backend/classEngine/data/\"\n",
    "\n",
    "# --- Check Available Files ---\n",
    "files = [f for f in os.listdir('.') if f.endswith('.sen.gz')]\n",
    "files2 = [f for f in os.listdir('.') if f.endswith('.dat')]\n",
    "\n",
    "if not files:\n",
    "    print(\" No `.sen.gz` files found in this directory. Please extract patent sentences.\")\n",
    "if not files2:\n",
    "    print(\" No `.dat` SDG target files found. Please run `extract_sdg_text.ipynb` first.\")\n",
    "\n",
    "# --- Widgets ---\n",
    "file_selector = widgets.Select(\n",
    "    options=files,\n",
    "    description=' Patents:',\n",
    "    rows=10,\n",
    "    layout=widgets.Layout(width='250px')\n",
    ")\n",
    "\n",
    "file_selector2 = widgets.Select(\n",
    "    options=files2,\n",
    "    description=' SDG Targets:',\n",
    "    rows=10,\n",
    "    layout=widgets.Layout(width='250px')\n",
    ")\n",
    "\n",
    "text1 = widgets.Text(value=\"Target Text\", description=\" Prompt:\")\n",
    "text2 = widgets.Text(value=\"sentence\", description=\" Patent Field:\")\n",
    "\n",
    "send_button = widgets.Button(description=\" Send to Server\", button_style='primary')\n",
    "execute_button = widgets.Button(description=\" Execute Search\", button_style='success')\n",
    "\n",
    "# --- Transfer Files Function ---\n",
    "def send_data_to_server():\n",
    "    filename = file_selector.value\n",
    "    filename2 = file_selector2.value\n",
    "    filename3 = \"searchconfig.json\"\n",
    "\n",
    "    # Create JSON config\n",
    "    config = {\n",
    "        \"filename_sdg\": filename2,\n",
    "        \"filename_texts\": filename,\n",
    "        \"Prompt\": text1.value,\n",
    "        \"extracted_text\": text2.value\n",
    "    }\n",
    "\n",
    "    with open(filename3, \"w\") as f:\n",
    "        json.dump(config, f, indent=4)\n",
    "\n",
    "    # SCP Commands\n",
    "    commands = [\n",
    "        [\"scp\", filename, f\"{remote_host}:{remote_path}\"],\n",
    "        [\"scp\", filename2, f\"{remote_host}:{remote_path}\"],\n",
    "        [\"scp\", filename3, f\"{remote_host}:{remote_path}\"]\n",
    "    ]\n",
    "\n",
    "    for i, cmd in enumerate(commands, 1):\n",
    "        print(f\" Command {i}: {' '.join(cmd)}\")\n",
    "        try:\n",
    "            proc = subprocess.Popen(cmd, stdout=subprocess.PIPE, stderr=subprocess.PIPE, text=True)\n",
    "            stdout, stderr = proc.communicate()\n",
    "            if proc.returncode == 0:\n",
    "                print(f\" Successfully transferred {cmd[1].split(':')[0]}\")\n",
    "            else:\n",
    "                print(f\" Error transferring file: {stderr}\")\n",
    "        except Exception as e:\n",
    "            print(f\" Unexpected error: {e}\")\n",
    "\n",
    "    print(\" All files processed.\\n\")\n",
    "\n",
    "# --- Execute Remote Docker Search ---\n",
    "def execute_remote_command(hostname, username, private_key_path, command):\n",
    "    try:\n",
    "        key = paramiko.Ed25519Key.from_private_key_file(private_key_path)\n",
    "        client = paramiko.SSHClient()\n",
    "        client.set_missing_host_key_policy(paramiko.AutoAddPolicy())\n",
    "        client.connect(hostname, username=username, pkey=key)\n",
    "        stdin, stdout, stderr = client.exec_command(command)\n",
    "        output = stdout.read().decode()\n",
    "        error = stderr.read().decode()\n",
    "        client.close()\n",
    "\n",
    "        if error:\n",
    "            print(\"Error during execution:\\n\", error)\n",
    "        else:\n",
    "            print(\"Command output:\\n\", output)\n",
    "    except Exception as e:\n",
    "        print(f\"❗ SSH Error: {e}\")\n",
    "\n",
    "# --- On-click handlers ---\n",
    "def on_send_click(_):\n",
    "    send_data_to_server()\n",
    "\n",
    "def on_execute_click(_):\n",
    "    command = \"cd /home/codechallenge/InnoClass/backend/ && docker-compose up embedsearch\"\n",
    "    execute_remote_command(server, username, key_path, command)\n",
    "\n",
    "# --- Bind Buttons ---\n",
    "send_button.on_click(on_send_click)\n",
    "execute_button.on_click(on_execute_click)\n",
    "\n",
    "# --- Display Widgets ---\n",
    "display(send_button, execute_button)\n",
    "display(file_selector, file_selector2, text1, text2)"
   ]
  },
  {
   "cell_type": "code",
   "execution_count": null,
   "id": "2c6b9269-9403-426e-a3bf-1a70475d1216",
   "metadata": {},
   "outputs": [],
   "source": []
  }
 ],
 "metadata": {
  "kernelspec": {
   "display_name": "Python 3 (ipykernel)",
   "language": "python",
   "name": "python3"
  },
  "language_info": {
   "codemirror_mode": {
    "name": "ipython",
    "version": 3
   },
   "file_extension": ".py",
   "mimetype": "text/x-python",
   "name": "python",
   "nbconvert_exporter": "python",
   "pygments_lexer": "ipython3",
   "version": "3.11.10"
  }
 },
 "nbformat": 4,
 "nbformat_minor": 5
}
