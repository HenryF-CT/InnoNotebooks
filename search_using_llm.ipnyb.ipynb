{
 "cells": [
  {
   "cell_type": "code",
   "execution_count": 66,
   "id": "a0e51266-9052-4b8e-8619-af39a57c98ea",
   "metadata": {},
   "outputs": [
    {
     "name": "stdout",
     "output_type": "stream",
     "text": [
      "Looking in indexes: https://download.pytorch.org/whl/cpu\n",
      "Requirement already satisfied: torch in /opt/conda/lib/python3.12/site-packages (2.7.0+cpu)\n",
      "Requirement already satisfied: filelock in /opt/conda/lib/python3.12/site-packages (from torch) (3.16.1)\n",
      "Requirement already satisfied: typing-extensions>=4.10.0 in /opt/conda/lib/python3.12/site-packages (from torch) (4.12.2)\n",
      "Requirement already satisfied: setuptools in /opt/conda/lib/python3.12/site-packages (from torch) (75.8.2)\n",
      "Requirement already satisfied: sympy>=1.13.3 in /opt/conda/lib/python3.12/site-packages (from torch) (1.13.3)\n",
      "Requirement already satisfied: networkx in /opt/conda/lib/python3.12/site-packages (from torch) (3.4.2)\n",
      "Requirement already satisfied: jinja2 in /opt/conda/lib/python3.12/site-packages (from torch) (3.1.6)\n",
      "Requirement already satisfied: fsspec in /opt/conda/lib/python3.12/site-packages (from torch) (2025.3.0)\n",
      "Requirement already satisfied: mpmath<1.4,>=1.1.0 in /opt/conda/lib/python3.12/site-packages (from sympy>=1.13.3->torch) (1.3.0)\n",
      "Requirement already satisfied: MarkupSafe>=2.0 in /opt/conda/lib/python3.12/site-packages (from jinja2->torch) (3.0.2)\n",
      "Note: you may need to restart the kernel to use updated packages.\n"
     ]
    }
   ],
   "source": [
    "pip install torch --index-url https://download.pytorch.org/whl/cpu"
   ]
  },
  {
   "cell_type": "code",
   "execution_count": 67,
   "id": "ced591bb-ae0a-4a2b-849a-34b7825cc5df",
   "metadata": {},
   "outputs": [
    {
     "name": "stdout",
     "output_type": "stream",
     "text": [
      "Requirement already satisfied: transformers in /opt/conda/lib/python3.12/site-packages (4.51.3)\n",
      "Requirement already satisfied: filelock in /opt/conda/lib/python3.12/site-packages (from transformers) (3.16.1)\n",
      "Requirement already satisfied: huggingface-hub<1.0,>=0.30.0 in /opt/conda/lib/python3.12/site-packages (from transformers) (0.30.2)\n",
      "Requirement already satisfied: numpy>=1.17 in /opt/conda/lib/python3.12/site-packages (from transformers) (2.1.3)\n",
      "Requirement already satisfied: packaging>=20.0 in /opt/conda/lib/python3.12/site-packages (from transformers) (24.2)\n",
      "Requirement already satisfied: pyyaml>=5.1 in /opt/conda/lib/python3.12/site-packages (from transformers) (6.0.2)\n",
      "Requirement already satisfied: regex!=2019.12.17 in /opt/conda/lib/python3.12/site-packages (from transformers) (2024.11.6)\n",
      "Requirement already satisfied: requests in /opt/conda/lib/python3.12/site-packages (from transformers) (2.32.3)\n",
      "Requirement already satisfied: tokenizers<0.22,>=0.21 in /opt/conda/lib/python3.12/site-packages (from transformers) (0.21.1)\n",
      "Requirement already satisfied: safetensors>=0.4.3 in /opt/conda/lib/python3.12/site-packages (from transformers) (0.5.3)\n",
      "Requirement already satisfied: tqdm>=4.27 in /opt/conda/lib/python3.12/site-packages (from transformers) (4.67.1)\n",
      "Requirement already satisfied: fsspec>=2023.5.0 in /opt/conda/lib/python3.12/site-packages (from huggingface-hub<1.0,>=0.30.0->transformers) (2025.3.0)\n",
      "Requirement already satisfied: typing-extensions>=3.7.4.3 in /opt/conda/lib/python3.12/site-packages (from huggingface-hub<1.0,>=0.30.0->transformers) (4.12.2)\n",
      "Requirement already satisfied: charset_normalizer<4,>=2 in /opt/conda/lib/python3.12/site-packages (from requests->transformers) (3.4.1)\n",
      "Requirement already satisfied: idna<4,>=2.5 in /opt/conda/lib/python3.12/site-packages (from requests->transformers) (3.10)\n",
      "Requirement already satisfied: urllib3<3,>=1.21.1 in /opt/conda/lib/python3.12/site-packages (from requests->transformers) (2.3.0)\n",
      "Requirement already satisfied: certifi>=2017.4.17 in /opt/conda/lib/python3.12/site-packages (from requests->transformers) (2025.1.31)\n"
     ]
    }
   ],
   "source": [
    "!pip install transformers"
   ]
  },
  {
   "cell_type": "code",
   "execution_count": 68,
   "id": "b8c8496b-ad76-4460-aa80-42a4193f49b3",
   "metadata": {},
   "outputs": [],
   "source": [
    "import json\n",
    "import os\n",
    "import torch\n",
    "import pickle\n",
    "from transformers import pipeline, AutoTokenizer, AutoModelForSequenceClassification\n",
    "from typing import List, Tuple"
   ]
  },
  {
   "cell_type": "code",
   "execution_count": 69,
   "id": "efc49d4d-6003-4d0c-995e-7cbacb9a9377",
   "metadata": {},
   "outputs": [],
   "source": [
    "# ----------------------------\n",
    "# CONFIGURATION\n",
    "# ----------------------------\n",
    "\n",
    "MODEL_NAME = \"facebook/bart-large-mnli\"  # Lightweight zero-shot LLM\n",
    "USE_GPU = torch.cuda.is_available()\n",
    "TOP_K = 3\n",
    "MAX_TOKENS = 512"
   ]
  },
  {
   "cell_type": "code",
   "execution_count": 70,
   "id": "781a3ca6-0627-429a-8445-323f9f2aa05a",
   "metadata": {},
   "outputs": [],
   "source": [
    "# ----------------------------\n",
    "# SDG CANDIDATE LABELS (flattened)\n",
    "# ----------------------------\n",
    "\n",
    "sdg_labels = [\n",
    "    \"No Poverty\",\n",
    "    \"Zero Hunger\",\n",
    "    \"Good Health and Well-being\",\n",
    "    \"Quality Education\",\n",
    "    \"Gender Equality\",\n",
    "    \"Clean Water and Sanitation\",\n",
    "    \"Affordable and Clean Energy\",\n",
    "    \"Decent Work and Economic Growth\",\n",
    "    \"Industry, Innovation and Infrastructure\",\n",
    "    \"Reduced Inequalities\",\n",
    "    \"Sustainable Cities and Communities\",\n",
    "    \"Responsible Consumption and Production\",\n",
    "    \"Climate Action\",\n",
    "    \"Life Below Water\",\n",
    "    \"Life on Land\",\n",
    "    \"Peace, Justice and Strong Institutions\",\n",
    "    \"Partnerships for the Goals\"\n",
    "]\n"
   ]
  },
  {
   "cell_type": "code",
   "execution_count": 71,
   "id": "681a54e8-4f5b-4f61-9991-433f66d3858f",
   "metadata": {},
   "outputs": [],
   "source": [
    "# ----------------------------\n",
    "# LOAD AND PARSE INPUT FILE\n",
    "# ----------------------------\n",
    "\n",
    "def load_dat_file(path: str) -> List[dict]:\n",
    "    documents = []\n",
    "    with open(path, 'r', encoding='utf-8') as file:\n",
    "        for line in file:\n",
    "            try:\n",
    "                ep, text = line.strip().split('\\t', 1)\n",
    "                documents.append({'ep': ep.strip(), 'text': text.strip()})\n",
    "            except ValueError:\n",
    "                continue\n",
    "    return documents"
   ]
  },
  {
   "cell_type": "code",
   "execution_count": 72,
   "id": "77f782d1-c9dc-420f-b653-d39243d8926c",
   "metadata": {},
   "outputs": [],
   "source": [
    "# ----------------------------\n",
    "# CLASSIFIER FUNCTION\n",
    "# ----------------------------\n",
    "\n",
    "def classify_with_llm(text: str, labels: List[str], classifier, top_k: int = 3) -> List[Tuple[str, float]]:\n",
    "    result = classifier(text, candidate_labels=labels, multi_label=True)\n",
    "    paired = list(zip(result['labels'], result['scores']))\n",
    "    return sorted(paired, key=lambda x: -x[1])[:top_k]\n"
   ]
  },
  {
   "cell_type": "code",
   "execution_count": 73,
   "id": "d288aa44-e32b-4101-9fc3-0b10d2d50c30",
   "metadata": {},
   "outputs": [],
   "source": [
    "# ----------------------------\n",
    "# MAIN FUNCTION\n",
    "# ----------------------------\n",
    "\n",
    "def run_sdg_classification(input_path, goal_path, output_path):\n",
    "    # Load SDG goals from pickle\n",
    "    with open(goal_path, 'rb') as f:\n",
    "        sdg_df = pickle.load(f)\n",
    "    sdg_labels = sdg_df.iloc[:, 0].tolist()  # assumes SDG names are in first column\n",
    "\n",
    "    # Load patent texts\n",
    "    data = []\n",
    "    with open(input_path, \"r\", encoding=\"utf-8\") as f:\n",
    "        for line in f:\n",
    "            if \"\\t\" in line:\n",
    "                ep, text = line.strip().split(\"\\t\", 1)\n",
    "                data.append({\"ep\": ep, \"text\": text})\n",
    "\n",
    "    # Load model\n",
    "    classifier = pipeline(\"zero-shot-classification\", model=\"facebook/bart-large-mnli\", device=0 if torch.cuda.is_available() else -1)\n",
    "\n",
    "    # Classify each text\n",
    "    results = []\n",
    "    for doc in data:\n",
    "        text = \" \".join(doc[\"text\"].split()[:512])  # truncate long text\n",
    "        pred = classifier(text, candidate_labels=sdg_labels, multi_label=True)\n",
    "        results.append({\n",
    "            \"ep\": doc[\"ep\"],\n",
    "            \"text\": doc[\"text\"],\n",
    "            \"predictions\": list(zip(pred[\"labels\"], pred[\"scores\"]))\n",
    "        })\n",
    "\n",
    "    # Save results\n",
    "    with open(output_path, \"w\", encoding=\"utf-8\") as f:\n",
    "        json.dump(results, f, indent=2)\n",
    "\n",
    "    print(f\" Classification done. Results saved to {output_path}\")"
   ]
  },
  {
   "cell_type": "markdown",
   "id": "2709e169-f6eb-462b-b64b-4fbef9889e55",
   "metadata": {},
   "source": [
    "### EXAMPLE RUN"
   ]
  },
  {
   "cell_type": "code",
   "execution_count": 74,
   "id": "e3c4eb6e-387e-4510-9e27-7e3064846d25",
   "metadata": {},
   "outputs": [],
   "source": [
    "with open(\"test1.dat\", \"w\", encoding=\"utf-8\") as f:\n",
    "    f.write(\"EP1234567\\tA system for purifying water using solar energy.\\n\")\n",
    "    f.write(\"EP7654321\\tAn AI method for detecting illegal fishing activity.\\n\")\n"
   ]
  },
  {
   "cell_type": "code",
   "execution_count": 75,
   "id": "c450d292-94cd-4dbe-a0c5-fc9364c02a21",
   "metadata": {},
   "outputs": [
    {
     "name": "stderr",
     "output_type": "stream",
     "text": [
      "Device set to use cpu\n"
     ]
    },
    {
     "name": "stdout",
     "output_type": "stream",
     "text": [
      " Classification done. Results saved to results.json\n"
     ]
    }
   ],
   "source": [
    "run_sdg_classification(\"test1.dat\", \"sgd_goals.dat\", \"results.json\")"
   ]
  },
  {
   "cell_type": "code",
   "execution_count": 76,
   "id": "7f121bba-0a63-4117-a5ce-a5e55f7d6f5c",
   "metadata": {},
   "outputs": [
    {
     "name": "stdout",
     "output_type": "stream",
     "text": [
      "\n",
      "Patent: EP1234567\n",
      " - Clean Water and Sanitation: 0.95\n",
      " - Affordable and Clean Energy: 0.94\n",
      " - Responsible Consumption and Production: 0.72\n",
      " - Industry, Innovation and Infrastructure: 0.66\n",
      " - Climate Action: 0.20\n",
      " - Reduced Inequalities: 0.20\n",
      " - Partnerships for the Goals: 0.19\n",
      " - Sustainable Cities and Communities: 0.16\n",
      " - Decent Work and Economic Growth: 0.10\n",
      " - Life Below Water: 0.07\n",
      " - No Poverty: 0.05\n",
      " - Life on Land: 0.01\n",
      " - Zero Hunger: 0.01\n",
      " - Good Health and Well-being: 0.01\n",
      " - Peace, Justice and Strong Institutions: 0.00\n",
      " - Gender Equality: 0.00\n",
      " - Quality Education: 0.00\n",
      "\n",
      "Patent: EP7654321\n",
      " - Reduced Inequalities: 0.19\n",
      " - Life Below Water: 0.13\n",
      " - No Poverty: 0.01\n",
      " - Industry, Innovation and Infrastructure: 0.01\n",
      " - Partnerships for the Goals: 0.01\n",
      " - Life on Land: 0.01\n",
      " - Zero Hunger: 0.00\n",
      " - Responsible Consumption and Production: 0.00\n",
      " - Decent Work and Economic Growth: 0.00\n",
      " - Sustainable Cities and Communities: 0.00\n",
      " - Climate Action: 0.00\n",
      " - Peace, Justice and Strong Institutions: 0.00\n",
      " - Clean Water and Sanitation: 0.00\n",
      " - Gender Equality: 0.00\n",
      " - Affordable and Clean Energy: 0.00\n",
      " - Good Health and Well-being: 0.00\n",
      " - Quality Education: 0.00\n"
     ]
    }
   ],
   "source": [
    "import json\n",
    "\n",
    "with open(\"results.json\", \"r\", encoding=\"utf-8\") as f:\n",
    "    results = json.load(f)\n",
    "\n",
    "for entry in results:\n",
    "    print(f\"\\nPatent: {entry['ep']}\")\n",
    "    for goal, score in entry['predictions']:\n",
    "        print(f\" - {goal}: {score:.2f}\")"
   ]
  },
  {
   "cell_type": "code",
   "execution_count": null,
   "id": "41b39bf2-af45-4301-bc12-3adde84806b2",
   "metadata": {},
   "outputs": [],
   "source": []
  }
 ],
 "metadata": {
  "kernelspec": {
   "display_name": "Python 3 (ipykernel)",
   "language": "python",
   "name": "python3"
  },
  "language_info": {
   "codemirror_mode": {
    "name": "ipython",
    "version": 3
   },
   "file_extension": ".py",
   "mimetype": "text/x-python",
   "name": "python",
   "nbconvert_exporter": "python",
   "pygments_lexer": "ipython3",
   "version": "3.12.9"
  }
 },
 "nbformat": 4,
 "nbformat_minor": 5
}
