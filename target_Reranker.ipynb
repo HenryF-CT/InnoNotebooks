{
 "cells": [
  {
   "cell_type": "markdown",
   "id": "65f51b65-c9c8-42cb-8bed-c539afec1a6c",
   "metadata": {},
   "source": [
    "# SDG Target Reranker\n",
    "This notebook takes the top-predicted SDG goal from your LLM pipeline and reranks its detailed SDG targets using zero-shot classification."
   ]
  },
  {
   "cell_type": "code",
   "execution_count": 5,
   "id": "a7251c5f",
   "metadata": {},
   "outputs": [],
   "source": [
    "import pickle\n",
    "from transformers import pipeline\n",
    "from typing import List, Tuple\n",
    "import torch"
   ]
  },
  {
   "cell_type": "markdown",
   "id": "6fae2ec6",
   "metadata": {},
   "source": [
    "###  Load SDG Targets"
   ]
  },
  {
   "cell_type": "code",
   "execution_count": 6,
   "id": "4ed26f7f",
   "metadata": {},
   "outputs": [],
   "source": [
    "def load_sdg_targets(target_path: str) -> dict:\n",
    "    with open(target_path, 'rb') as f:\n",
    "        targets_df = pickle.load(f)\n",
    "    grouped = targets_df.groupby(targets_df.columns[0])[targets_df.columns[1]].apply(list).to_dict()\n",
    "    return grouped  # {Goal 6: [target1, target2, ...]}"
   ]
  },
  {
   "cell_type": "markdown",
   "id": "43c3b811",
   "metadata": {},
   "source": [
    "###  Rerank Targets within a Goal"
   ]
  },
  {
   "cell_type": "code",
   "execution_count": 7,
   "id": "9cb9c4db",
   "metadata": {},
   "outputs": [],
   "source": [
    "def rerank_targets_within_goal(text: str, targets: List[str], classifier, top_k: int = 3) -> List[Tuple[str, float]]:\n",
    "    result = classifier(text, candidate_labels=targets, multi_label=True)\n",
    "    paired = list(zip(result['labels'], result['scores']))\n",
    "    return sorted(paired, key=lambda x: -x[1])[:top_k]"
   ]
  },
  {
   "cell_type": "markdown",
   "id": "992b0f11",
   "metadata": {},
   "source": [
    "### Main Function to Explain Top Goal with Targets"
   ]
  },
  {
   "cell_type": "code",
   "execution_count": 8,
   "id": "56437dd0",
   "metadata": {},
   "outputs": [],
   "source": [
    "def explain_top_goal_with_targets(text: str, top_goal: str, target_path: str, top_k: int = 3):\n",
    "    classifier = pipeline(\"zero-shot-classification\", model=\"facebook/bart-large-mnli\", device=0 if torch.cuda.is_available() else -1)\n",
    "    targets_by_goal = load_sdg_targets(target_path)\n",
    "    targets = targets_by_goal.get(top_goal, [])\n",
    "    if not targets:\n",
    "        return [(\"No targets found for this goal\", 0.0)]\n",
    "    return rerank_targets_within_goal(text, targets, classifier, top_k)"
   ]
  },
  {
   "cell_type": "markdown",
   "id": "a64d82c2",
   "metadata": {},
   "source": [
    "###  Example Usage"
   ]
  },
  {
   "cell_type": "code",
   "execution_count": 9,
   "id": "1303bb1d-5c51-420e-b35f-ba0f08eff4a0",
   "metadata": {},
   "outputs": [
    {
     "name": "stdout",
     "output_type": "stream",
     "text": [
      " Using:\n",
      "Text: A system for purifying water using solar energy.\n",
      "Top Goal: Clean Water and Sanitation\n"
     ]
    }
   ],
   "source": [
    "import json\n",
    "\n",
    "with open(\"results.json\", \"r\", encoding=\"utf-8\") as f:\n",
    "    results = json.load(f)\n",
    "\n",
    "# Example: use the first patent\n",
    "text = results[0]['text']\n",
    "top_goal = results[0]['predictions'][0][0]  # highest scoring SDG\n",
    "\n",
    "print(\" Using:\")\n",
    "print(\"Text:\", text)\n",
    "print(\"Top Goal:\", top_goal)\n"
   ]
  },
  {
   "cell_type": "code",
   "execution_count": 10,
   "id": "16648376-dd90-4f57-af3f-39c0a4beecea",
   "metadata": {},
   "outputs": [
    {
     "name": "stderr",
     "output_type": "stream",
     "text": [
      "Device set to use cpu\n"
     ]
    },
    {
     "name": "stdout",
     "output_type": "stream",
     "text": [
      " - No targets found for this goal (0.00)\n"
     ]
    }
   ],
   "source": [
    "reranked_targets = explain_top_goal_with_targets(text, top_goal, \"sgd_targets.dat\")\n",
    "\n",
    "for t, s in reranked_targets:\n",
    "    print(f\" - {t} ({s:.2f})\")\n"
   ]
  },
  {
   "cell_type": "code",
   "execution_count": null,
   "id": "e85d6689-853b-4fd7-96d5-992ddc842f3b",
   "metadata": {},
   "outputs": [],
   "source": []
  }
 ],
 "metadata": {
  "kernelspec": {
   "display_name": "Python 3 (ipykernel)",
   "language": "python",
   "name": "python3"
  },
  "language_info": {
   "codemirror_mode": {
    "name": "ipython",
    "version": 3
   },
   "file_extension": ".py",
   "mimetype": "text/x-python",
   "name": "python",
   "nbconvert_exporter": "python",
   "pygments_lexer": "ipython3",
   "version": "3.12.9"
  }
 },
 "nbformat": 4,
 "nbformat_minor": 5
}
